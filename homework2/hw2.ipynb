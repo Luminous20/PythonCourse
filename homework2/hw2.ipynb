{
 "cells": [
  {
   "cell_type": "markdown",
   "metadata": {},
   "source": [
    "# Homework 2 by Clara Schlosser KU 0073323\n",
    "For INTL 308"
   ]
  },
  {
   "cell_type": "markdown",
   "metadata": {},
   "source": [
    "Retrieve data from the World Bank API. The dataset is written to csv. \n",
    "The linear regression ist taken with the function linreg()."
   ]
  },
  {
   "cell_type": "markdown",
   "metadata": {},
   "source": [
    "<b>World bank parameter</b><br>\n",
    "(values from year 2010)<br>\n",
    "\n",
    "|Variable  |Indicator  |Description |\n",
    "|:---------|:----------|:-----------|\n",
    "| treatment_success_rate | SH.TBS.CURE.ZS | Tuberculosis treatment success rate (% of new cases) |\n",
    "| hospital_beds| SH.MED.BEDS.ZS | Hospital beds (per 1,000 people) |\n",
    "| gdp_growth| NY.GDP.MKTP.KD.ZG | GDP growth (annual %) |"
   ]
  },
  {
   "cell_type": "code",
   "execution_count": 5,
   "metadata": {},
   "outputs": [],
   "source": [
    "# imports for homework2\n",
    "import wbdata\n",
    "import datetime\n",
    "import pandas as pd\n",
    "import numpy as np"
   ]
  },
  {
   "cell_type": "code",
   "execution_count": 6,
   "metadata": {
    "scrolled": true
   },
   "outputs": [],
   "source": [
    "# load CSV from world bank API\n",
    "indicators = {\"SH.TBS.CURE.ZS\": \"treatment_success_rate\", \"SH.MED.BEDS.ZS\": \"hospital_beds\", \"NY.GDP.MKTP.KD.ZG\": \"gdp_growth\"}\n",
    "sel_dat = datetime.datetime(2010, 1, 1)\n",
    "\n",
    "arr_countries = wbdata.get_country(display=False)\n",
    "#remove regions like Europe\n",
    "arr_countries = [x for x in arr_countries if not x['region']['value']==\"Aggregates\"]\n",
    "sel_countries = [i['iso2Code'] for i in arr_countries]\n",
    "#sel_countries = ([\"CL\",\"UY\",\"HU\"])\n",
    "\n",
    "dc = wbdata.get_dataframe(indicators,country=sel_countries, data_date=sel_dat)\n",
    "dc.to_csv('tbs_beds.csv')"
   ]
  },
  {
   "cell_type": "code",
   "execution_count": 7,
   "metadata": {},
   "outputs": [],
   "source": [
    "df = pd.read_csv('tbs_beds.csv')\n",
    "df = df.drop('country',axis=1)\n",
    "target_column = ['treatment_success_rate']"
   ]
  },
  {
   "cell_type": "markdown",
   "metadata": {},
   "source": [
    " # call function for linear regression"
   ]
  },
  {
   "cell_type": "markdown",
   "metadata": {},
   "source": [
    "use the equation $\\hat{\\beta} = (X'X)^{-1}X'y$ to calculate coefficient estimates"
   ]
  },
  {
   "cell_type": "code",
   "execution_count": 8,
   "metadata": {},
   "outputs": [
    {
     "name": "stdout",
     "output_type": "stream",
     "text": [
      "regression table\n"
     ]
    },
    {
     "data": {
      "text/html": [
       "<div>\n",
       "<style scoped>\n",
       "    .dataframe tbody tr th:only-of-type {\n",
       "        vertical-align: middle;\n",
       "    }\n",
       "\n",
       "    .dataframe tbody tr th {\n",
       "        vertical-align: top;\n",
       "    }\n",
       "\n",
       "    .dataframe thead th {\n",
       "        text-align: right;\n",
       "    }\n",
       "</style>\n",
       "<table border=\"1\" class=\"dataframe\">\n",
       "  <thead>\n",
       "    <tr style=\"text-align: right;\">\n",
       "      <th></th>\n",
       "      <th>variables</th>\n",
       "      <th>estimates</th>\n",
       "      <th>standard_error</th>\n",
       "      <th>t-stat</th>\n",
       "    </tr>\n",
       "  </thead>\n",
       "  <tbody>\n",
       "    <tr>\n",
       "      <th>0</th>\n",
       "      <td>treatment_success_rate</td>\n",
       "      <td>2.275957e-15</td>\n",
       "      <td>1.711356</td>\n",
       "      <td>1.329914e-15</td>\n",
       "    </tr>\n",
       "    <tr>\n",
       "      <th>1</th>\n",
       "      <td>hospital_beds</td>\n",
       "      <td>-9.421203e-01</td>\n",
       "      <td>0.753767</td>\n",
       "      <td>-1.249882e+00</td>\n",
       "    </tr>\n",
       "    <tr>\n",
       "      <th>2</th>\n",
       "      <td>gdp_growth</td>\n",
       "      <td>5.368216e-01</td>\n",
       "      <td>0.423456</td>\n",
       "      <td>1.267714e+00</td>\n",
       "    </tr>\n",
       "  </tbody>\n",
       "</table>\n",
       "</div>"
      ],
      "text/plain": [
       "                variables     estimates  standard_error        t-stat\n",
       "0  treatment_success_rate  2.275957e-15        1.711356  1.329914e-15\n",
       "1           hospital_beds -9.421203e-01        0.753767 -1.249882e+00\n",
       "2              gdp_growth  5.368216e-01        0.423456  1.267714e+00"
      ]
     },
     "metadata": {},
     "output_type": "display_data"
    }
   ],
   "source": [
    "from linreg import linreg\n",
    "\n",
    "beta, stderror, tstat = linreg(df,target_column)\n",
    "\n",
    "cols = list(df)\n",
    "cols.pop(cols.index(str(target_column[0])))\n",
    "cols = target_column+cols\n",
    "result_table = pd.DataFrame.from_dict({\"variables\":cols,\"estimates\": beta,\"standard_error\": stderror,\"t-stat\": tstat})\n",
    "print (\"regression table\")\n",
    "display(result_table)"
   ]
  },
  {
   "cell_type": "code",
   "execution_count": null,
   "metadata": {},
   "outputs": [],
   "source": []
  }
 ],
 "metadata": {
  "kernelspec": {
   "display_name": "Python 3",
   "language": "python",
   "name": "python3"
  },
  "language_info": {
   "codemirror_mode": {
    "name": "ipython",
    "version": 3
   },
   "file_extension": ".py",
   "mimetype": "text/x-python",
   "name": "python",
   "nbconvert_exporter": "python",
   "pygments_lexer": "ipython3",
   "version": "3.7.3"
  }
 },
 "nbformat": 4,
 "nbformat_minor": 4
}
