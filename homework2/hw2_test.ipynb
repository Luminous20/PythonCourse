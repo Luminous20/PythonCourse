{
 "cells": [
  {
   "cell_type": "code",
   "execution_count": 1,
   "metadata": {},
   "outputs": [
    {
     "name": "stderr",
     "output_type": "stream",
     "text": [
      "test_estimates (__main__.Homework2Test) ... ok\n",
      "test_estimates_wrong_beta_result (__main__.Homework2Test) ... FAIL\n",
      "test_wrong_data_fail (__main__.Homework2Test) ... ERROR\n",
      "test_wrong_target_column (__main__.Homework2Test) ... ERROR\n",
      "\n",
      "======================================================================\n",
      "ERROR: test_wrong_data_fail (__main__.Homework2Test)\n",
      "----------------------------------------------------------------------\n",
      "Traceback (most recent call last):\n",
      "  File \"<ipython-input-1-79667e660119>\", line 26, in test_wrong_data_fail\n",
      "    df = pd.DataFrame({'price': [1,2,3], 'demand': [1,4,6,8]})\n",
      "  File \"/opt/tljh/user/lib/python3.7/site-packages/pandas/core/frame.py\", line 435, in __init__\n",
      "    mgr = init_dict(data, index, columns, dtype=dtype)\n",
      "  File \"/opt/tljh/user/lib/python3.7/site-packages/pandas/core/internals/construction.py\", line 254, in init_dict\n",
      "    return arrays_to_mgr(arrays, data_names, index, columns, dtype=dtype)\n",
      "  File \"/opt/tljh/user/lib/python3.7/site-packages/pandas/core/internals/construction.py\", line 64, in arrays_to_mgr\n",
      "    index = extract_index(arrays)\n",
      "  File \"/opt/tljh/user/lib/python3.7/site-packages/pandas/core/internals/construction.py\", line 365, in extract_index\n",
      "    raise ValueError(\"arrays must all be same length\")\n",
      "ValueError: arrays must all be same length\n",
      "\n",
      "======================================================================\n",
      "ERROR: test_wrong_target_column (__main__.Homework2Test)\n",
      "----------------------------------------------------------------------\n",
      "Traceback (most recent call last):\n",
      "  File \"<ipython-input-1-79667e660119>\", line 37, in test_wrong_target_column\n",
      "    self.assertEqual(beta[1], 1.5)\n",
      "IndexError: list index out of range\n",
      "\n",
      "======================================================================\n",
      "FAIL: test_estimates_wrong_beta_result (__main__.Homework2Test)\n",
      "----------------------------------------------------------------------\n",
      "Traceback (most recent call last):\n",
      "  File \"<ipython-input-1-79667e660119>\", line 23, in test_estimates_wrong_beta_result\n",
      "    self.assertEqual(beta[1], 2)\n",
      "AssertionError: 1.5 != 2\n",
      "\n",
      "----------------------------------------------------------------------\n",
      "Ran 4 tests in 0.043s\n",
      "\n",
      "FAILED (failures=1, errors=2)\n"
     ]
    },
    {
     "data": {
      "text/plain": [
       "<unittest.main.TestProgram at 0x7fd8b54c5908>"
      ]
     },
     "execution_count": 1,
     "metadata": {},
     "output_type": "execute_result"
    }
   ],
   "source": [
    "import unittest\n",
    "import numpy as np\n",
    "import pandas as pd\n",
    "from linreg import linreg\n",
    "\n",
    "np.seterr(all='ignore')\n",
    "log = \"\"\n",
    "\n",
    "class Homework2Test(unittest.TestCase):\n",
    "        \n",
    "    def test_estimates(self):\n",
    "        df = pd.DataFrame({'price': [1,2,3], 'demand': [1,2,4]})\n",
    "        target_column = ['demand']\n",
    "        beta, stderror, tstat = linreg(df,target_column)\n",
    "        self.assertEqual(log, \"\")\n",
    "        self.assertEqual(beta[1], 1.5)\n",
    "                         \n",
    "    def test_estimates_wrong_beta_result(self):\n",
    "        df = pd.DataFrame({'price': [1,2,3], 'demand': [1,2,4]})\n",
    "        target_column = ['demand']\n",
    "        beta, stderror, tstat = linreg(df,target_column)\n",
    "        self.assertEqual(log, \"\")\n",
    "        self.assertEqual(beta[1], 2)\n",
    "        \n",
    "    def test_wrong_data_fail(self):\n",
    "        df = pd.DataFrame({'price': [1,2,3], 'demand': [1,2,4,8]})\n",
    "        target_column = ['demand']\n",
    "        beta, stderror, tstat = linreg(df,target_column)\n",
    "        self.assertEqual(log, \"\")\n",
    "        self.assertEqual(beta[1], 1.5)\n",
    "        \n",
    "    def test_wrong_target_column(self):\n",
    "        df = pd.DataFrame({'price': [1,2,3], 'demand': [1,2,4]})\n",
    "        target_column = ['nothing']\n",
    "        beta, stderror, tstat = linreg(df,target_column)\n",
    "        self.assertEqual(log, \"\")\n",
    "        self.assertEqual(beta[1], 1.5)\n",
    "\n",
    "\n",
    "unittest.main(argv=[''], verbosity=3, exit=False)"
   ]
  },
  {
   "cell_type": "code",
   "execution_count": null,
   "metadata": {},
   "outputs": [],
   "source": []
  },
  {
   "cell_type": "code",
   "execution_count": null,
   "metadata": {},
   "outputs": [],
   "source": []
  }
 ],
 "metadata": {
  "kernelspec": {
   "display_name": "Python 3",
   "language": "python",
   "name": "python3"
  },
  "language_info": {
   "codemirror_mode": {
    "name": "ipython",
    "version": 3
   },
   "file_extension": ".py",
   "mimetype": "text/x-python",
   "name": "python",
   "nbconvert_exporter": "python",
   "pygments_lexer": "ipython3",
   "version": "3.7.3"
  }
 },
 "nbformat": 4,
 "nbformat_minor": 4
}
